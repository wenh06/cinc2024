{
 "cells": [
  {
   "cell_type": "code",
   "execution_count": null,
   "id": "2674ced4",
   "metadata": {},
   "outputs": [],
   "source": [
    "import sys\n",
    "# sys.path.insert(0, \"/home/wenh06/Jupyter/wenhao/workspace/torch_ecg/\")\n",
    "# sys.path.insert(0, \"/home/wenh06/Jupyter/wenhao/workspace/bib_lookup/\")\n",
    "\n",
    "import os\n",
    "import pickle\n",
    "import time\n",
    "from copy import deepcopy\n",
    "from pathlib import Path\n",
    "from typing import Dict, Union, Tuple, Sequence\n",
    "\n",
    "import numpy as np\n",
    "import torch\n",
    "from torch.nn.parallel import (  # noqa: F401\n",
    "    DistributedDataParallel as DDP,\n",
    "    DataParallel as DP,\n",
    ")  # noqa: F401\n",
    "from torch_ecg.cfg import CFG\n",
    "from torch_ecg.utils.misc import str2bool\n",
    "from tqdm.auto import tqdm\n",
    "\n",
    "from cfg import TrainCfg, ModelCfg\n",
    "from dataset import CinC2024Dataset\n",
    "from models import MultiHead_CINC2024, ECGWaveformDetector, ECGWaveformDigitizer\n",
    "from trainer import CINC2024Trainer\n",
    "from utils.misc import view_image_with_bbox\n",
    "\n",
    "%load_ext autoreload\n",
    "%autoreload 2"
   ]
  },
  {
   "cell_type": "code",
   "execution_count": null,
   "id": "a490f145-e66d-47ed-b2e1-703abbb8e5bd",
   "metadata": {},
   "outputs": [],
   "source": [
    "db_dir = Path(\"/home/wenh06/Jupyter/wenhao/Hot-Data/cinc2024/ptb-xl/\")\n",
    "DEVICE = torch.device(\"cuda:1\" if torch.cuda.is_available() else \"cpu\")"
   ]
  },
  {
   "cell_type": "code",
   "execution_count": null,
   "id": "e55a1ab5-a1d9-4e44-8d7d-9fc029998132",
   "metadata": {},
   "outputs": [],
   "source": []
  },
  {
   "cell_type": "markdown",
   "id": "2053f582-329f-4b92-b683-23683d11ccc8",
   "metadata": {},
   "source": [
    "## Object detection model"
   ]
  },
  {
   "cell_type": "code",
   "execution_count": null,
   "id": "09c07ec6-9e0b-4c31-a9b0-0c035891b552",
   "metadata": {},
   "outputs": [],
   "source": [
    "TEST_FLAG = False\n",
    "\n",
    "if ModelCfg.torch_dtype == torch.float64:\n",
    "    torch.set_default_tensor_type(torch.DoubleTensor)\n",
    "    DTYPE = np.float64\n",
    "else:\n",
    "    DTYPE = np.float32\n",
    "\n",
    "CinC2024Dataset.__DEBUG__ = False\n",
    "ECGWaveformDetector.__DEBUG__ = False\n",
    "CINC2024Trainer.__DEBUG__ = False"
   ]
  },
  {
   "cell_type": "code",
   "execution_count": null,
   "id": "f571dd54-420b-4dae-b2ae-647907ead85a",
   "metadata": {},
   "outputs": [],
   "source": [
    "train_config = deepcopy(TrainCfg)\n",
    "# train_config.db_dir = data_folder\n",
    "# train_config.model_dir = model_folder\n",
    "# train_config.final_model_filename = _ModelFilename\n",
    "train_config.debug = True\n",
    "train_config.predict_dx = False\n",
    "\n",
    "train_config.bbox_mode = \"merge_horizontal\"\n",
    "\n",
    "train_config.db_dir = db_dir\n",
    "\n",
    "train_config.n_epochs = 12\n",
    "train_config.batch_size = 10  # 16G (Tesla T4)\n",
    "# train_config.log_step = 20\n",
    "train_config.learning_rate = 2e-5  # 5e-4, 1e-3\n",
    "train_config.lr = train_config.learning_rate\n",
    "train_config.max_lr = 7e-5\n",
    "train_config.early_stopping.patience = train_config.n_epochs // 3\n",
    "\n",
    "# augmentations configurations\n",
    "# TODO: add augmentation configs\n",
    "\n",
    "model_config = deepcopy(ModelCfg)\n",
    "\n",
    "model_config.object_detection.bbox_mode = train_config.bbox_mode"
   ]
  },
  {
   "cell_type": "code",
   "execution_count": null,
   "id": "ffbbf7db-6404-481b-9971-205f72f8e1f3",
   "metadata": {},
   "outputs": [],
   "source": [
    "model = ECGWaveformDetector(config=model_config)\n",
    "# if torch.cuda.device_count() > 1:\n",
    "#     model = DP(model)\n",
    "#     # model = DDP(model)\n",
    "model = model.to(device=DEVICE)"
   ]
  },
  {
   "cell_type": "code",
   "execution_count": null,
   "id": "d52e8188-9b5a-4f6a-8b4b-2209d2eb96ea",
   "metadata": {},
   "outputs": [],
   "source": [
    "if isinstance(model, DP):\n",
    "    print(model.module.module_size, model.module.module_size_)\n",
    "else:\n",
    "    print(model.module_size, model.module_size_)"
   ]
  },
  {
   "cell_type": "code",
   "execution_count": null,
   "id": "37d0c87a-7afb-4fe2-90b4-fcc5f9dc8c62",
   "metadata": {},
   "outputs": [],
   "source": [
    "ds_train = CinC2024Dataset(train_config, training=True, lazy=True)\n",
    "ds_test = CinC2024Dataset(train_config, training=False, lazy=True)"
   ]
  },
  {
   "cell_type": "code",
   "execution_count": null,
   "id": "77e51735-aea8-4dc3-acfa-4b42a9e2452c",
   "metadata": {},
   "outputs": [],
   "source": [
    "len(ds_train), len(ds_test)"
   ]
  },
  {
   "cell_type": "code",
   "execution_count": null,
   "id": "c062a18c-4c1a-4ed5-a72b-46115f354d5b",
   "metadata": {},
   "outputs": [],
   "source": [
    "data = ds_train[0]\n",
    "view_image_with_bbox(\n",
    "    data[\"image\"], data[\"bbox\"][\"annotations\"], fmt=ds_train.config.bbox_format, cat_names=model_config.object_detection.class_names\n",
    ")"
   ]
  },
  {
   "cell_type": "code",
   "execution_count": null,
   "id": "92c1fca8-fd07-497f-95dd-cee4c67ac5a6",
   "metadata": {},
   "outputs": [],
   "source": []
  },
  {
   "cell_type": "code",
   "execution_count": null,
   "id": "4106e309-b0f0-4c28-956d-f3b0672d2e36",
   "metadata": {},
   "outputs": [],
   "source": [
    "trainer = CINC2024Trainer(\n",
    "    model=model,\n",
    "    model_config=model_config,\n",
    "    train_config=train_config,\n",
    "    device=DEVICE,\n",
    "    lazy=True,\n",
    ")"
   ]
  },
  {
   "cell_type": "code",
   "execution_count": null,
   "id": "5f7a77a6-1622-41b2-a118-3887796d1814",
   "metadata": {},
   "outputs": [],
   "source": [
    "trainer._setup_dataloaders(ds_train, ds_test)\n",
    "# trainer._setup_dataloaders(ds_test, ds_train)"
   ]
  },
  {
   "cell_type": "code",
   "execution_count": null,
   "id": "a3489b98-186b-4f72-922a-089c54d56d62",
   "metadata": {},
   "outputs": [],
   "source": [
    "best_model_state_dict = trainer.train()"
   ]
  },
  {
   "cell_type": "code",
   "execution_count": null,
   "id": "2acd55f5-8ae7-4175-b161-38ad3192a4dc",
   "metadata": {},
   "outputs": [],
   "source": []
  },
  {
   "cell_type": "code",
   "execution_count": null,
   "id": "43b8f228-9d84-42d2-b8f6-994c84b5a309",
   "metadata": {},
   "outputs": [],
   "source": [
    "trainer.log_manager.flush()\n",
    "trainer.log_manager.close()"
   ]
  },
  {
   "cell_type": "code",
   "execution_count": null,
   "id": "6789ed5b-d035-483e-87c4-995a897e5355",
   "metadata": {},
   "outputs": [],
   "source": [
    "del trainer, model, best_model_state_dict\n",
    "torch.cuda.empty_cache()"
   ]
  },
  {
   "cell_type": "code",
   "execution_count": null,
   "id": "8be54b6a-d521-4535-8c22-f838260c81a3",
   "metadata": {},
   "outputs": [],
   "source": []
  },
  {
   "cell_type": "markdown",
   "id": "387a6058-fa24-44ea-bdfd-a61f3f993368",
   "metadata": {},
   "source": [
    "## Segmentation (Digitization) model"
   ]
  },
  {
   "cell_type": "code",
   "execution_count": null,
   "id": "64788200-b937-4af0-8853-63ff516a58e3",
   "metadata": {},
   "outputs": [],
   "source": [
    "TEST_FLAG = False\n",
    "\n",
    "if ModelCfg.torch_dtype == torch.float64:\n",
    "    torch.set_default_tensor_type(torch.DoubleTensor)\n",
    "    DTYPE = np.float64\n",
    "else:\n",
    "    DTYPE = np.float32\n",
    "\n",
    "CinC2024Dataset.__DEBUG__ = False\n",
    "ECGWaveformDetector.__DEBUG__ = False\n",
    "CINC2024Trainer.__DEBUG__ = False"
   ]
  },
  {
   "cell_type": "code",
   "execution_count": null,
   "id": "6bb18850-0df2-434d-975b-861b36cf9f90",
   "metadata": {},
   "outputs": [],
   "source": [
    "train_config = deepcopy(TrainCfg)\n",
    "# train_config.db_dir = data_folder\n",
    "# train_config.model_dir = model_folder\n",
    "# train_config.final_model_filename = _ModelFilename\n",
    "train_config.debug = True\n",
    "train_config.predict_dx = False\n",
    "train_config.predict_bbox = False\n",
    "train_config.predict_mask = True\n",
    "train_config.roi_only = True\n",
    "train_config.roi_padding = 0.0\n",
    "\n",
    "train_config.db_dir = db_dir\n",
    "\n",
    "train_config.n_epochs = 10\n",
    "train_config.batch_size = 6  # 16G (Tesla T4)\n",
    "train_config.log_step = 120\n",
    "train_config.learning_rate = 4e-5  # 5e-4, 1e-3\n",
    "train_config.lr = train_config.learning_rate\n",
    "train_config.max_lr = 9e-5\n",
    "train_config.early_stopping.patience = train_config.n_epochs // 2\n",
    "\n",
    "# augmentations configurations\n",
    "# TODO: add augmentation configs\n",
    "\n",
    "model_config = deepcopy(ModelCfg)"
   ]
  },
  {
   "cell_type": "code",
   "execution_count": null,
   "id": "23488292-565d-42cc-a1c4-9b8d04fc6b3d",
   "metadata": {},
   "outputs": [],
   "source": [
    "model = ECGWaveformDigitizer(config=model_config)\n",
    "# if torch.cuda.device_count() > 1:\n",
    "#     model = DP(model)\n",
    "#     # model = DDP(model)\n",
    "model = model.to(device=DEVICE)"
   ]
  },
  {
   "cell_type": "code",
   "execution_count": null,
   "id": "51d16953-fea0-44db-8bf7-eee0df346f2f",
   "metadata": {},
   "outputs": [],
   "source": [
    "if isinstance(model, DP):\n",
    "    print(model.module.module_size, model.module.module_size_)\n",
    "else:\n",
    "    print(model.module_size, model.module_size_)"
   ]
  },
  {
   "cell_type": "code",
   "execution_count": null,
   "id": "ff90e1cb-f9ef-4941-9b3b-b50298097557",
   "metadata": {},
   "outputs": [],
   "source": [
    "ds_train = CinC2024Dataset(train_config, training=True, lazy=True)\n",
    "ds_test = CinC2024Dataset(train_config, training=False, lazy=True)"
   ]
  },
  {
   "cell_type": "code",
   "execution_count": null,
   "id": "a3a098d8-2976-4ce9-8d61-56b542a692ba",
   "metadata": {},
   "outputs": [],
   "source": [
    "len(ds_train), len(ds_test)"
   ]
  },
  {
   "cell_type": "code",
   "execution_count": null,
   "id": "2871dd00-b0cc-4256-84dd-53f0a20dacb1",
   "metadata": {},
   "outputs": [],
   "source": [
    "data = ds_train[0]\n",
    "view_image_with_bbox(\n",
    "    data[\"image\"], mask=data[\"mask\"]\n",
    ")"
   ]
  },
  {
   "cell_type": "code",
   "execution_count": null,
   "id": "8f268119-1adf-4f88-951f-3de7edc3b219",
   "metadata": {},
   "outputs": [],
   "source": []
  },
  {
   "cell_type": "code",
   "execution_count": null,
   "id": "78e8477d-a782-48f6-b90e-157c6d68e33d",
   "metadata": {},
   "outputs": [],
   "source": [
    "trainer = CINC2024Trainer(\n",
    "    model=model,\n",
    "    model_config=model_config,\n",
    "    train_config=train_config,\n",
    "    device=DEVICE,\n",
    "    lazy=True,\n",
    ")"
   ]
  },
  {
   "cell_type": "code",
   "execution_count": null,
   "id": "2c41f2e7-1deb-4d68-b586-80caa6a92881",
   "metadata": {},
   "outputs": [],
   "source": [
    "trainer._setup_dataloaders(ds_train, ds_test)\n",
    "# trainer._setup_dataloaders(ds_test, ds_train)"
   ]
  },
  {
   "cell_type": "code",
   "execution_count": null,
   "id": "0e9b6771-5553-4494-bdf6-b1e608054872",
   "metadata": {},
   "outputs": [],
   "source": []
  },
  {
   "cell_type": "code",
   "execution_count": null,
   "id": "6930ea71-9ad7-4460-baec-5ef6a865662d",
   "metadata": {},
   "outputs": [],
   "source": [
    "best_model_state_dict = trainer.train()"
   ]
  },
  {
   "cell_type": "code",
   "execution_count": null,
   "id": "36899722-34bc-4815-81d5-a7bf8f181f0a",
   "metadata": {},
   "outputs": [],
   "source": []
  },
  {
   "cell_type": "code",
   "execution_count": null,
   "id": "2ec4977a-62c2-40bf-a3ba-18843d04892a",
   "metadata": {},
   "outputs": [],
   "source": [
    "trainer.log_manager.flush()\n",
    "trainer.log_manager.close()"
   ]
  },
  {
   "cell_type": "code",
   "execution_count": null,
   "id": "084bc167-53c2-4893-b46a-7e78e096d9aa",
   "metadata": {},
   "outputs": [],
   "source": []
  },
  {
   "cell_type": "code",
   "execution_count": null,
   "id": "2adf74fe-9648-43bd-bb09-1ab5b576081d",
   "metadata": {},
   "outputs": [],
   "source": [
    "model.inference(ds_test[10][\"image\"], show=True)"
   ]
  },
  {
   "cell_type": "code",
   "execution_count": null,
   "id": "e4edaf18-bdfc-4b8a-83af-04642c192172",
   "metadata": {},
   "outputs": [],
   "source": []
  },
  {
   "cell_type": "code",
   "execution_count": null,
   "id": "78d61a0b-8eb1-4583-9fdc-55a74f4f6cea",
   "metadata": {},
   "outputs": [],
   "source": [
    "del trainer, model, best_model_state_dict\n",
    "torch.cuda.empty_cache()"
   ]
  },
  {
   "cell_type": "code",
   "execution_count": null,
   "id": "5d71ef57",
   "metadata": {},
   "outputs": [],
   "source": []
  },
  {
   "cell_type": "markdown",
   "id": "58800f94",
   "metadata": {},
   "source": [
    "## Dx model"
   ]
  },
  {
   "cell_type": "code",
   "execution_count": null,
   "id": "c71826ea",
   "metadata": {},
   "outputs": [],
   "source": [
    "TEST_FLAG = False\n",
    "\n",
    "if ModelCfg.torch_dtype == torch.float64:\n",
    "    torch.set_default_tensor_type(torch.DoubleTensor)\n",
    "    DTYPE = np.float64\n",
    "else:\n",
    "    DTYPE = np.float32\n",
    "\n",
    "CinC2024Dataset.__DEBUG__ = False\n",
    "MultiHead_CINC2024.__DEBUG__ = False\n",
    "CINC2024Trainer.__DEBUG__ = False"
   ]
  },
  {
   "cell_type": "code",
   "execution_count": null,
   "id": "2d1885f6",
   "metadata": {},
   "outputs": [],
   "source": []
  },
  {
   "cell_type": "code",
   "execution_count": null,
   "id": "956b2347",
   "metadata": {},
   "outputs": [],
   "source": [
    "train_config = deepcopy(TrainCfg)\n",
    "# train_config.db_dir = data_folder\n",
    "# train_config.model_dir = model_folder\n",
    "# train_config.final_model_filename = _ModelFilename\n",
    "train_config.debug = True\n",
    "\n",
    "train_config.db_dir = db_dir\n",
    "\n",
    "train_config.n_epochs = 25\n",
    "train_config.batch_size = 17  # 16G (Tesla T4)\n",
    "# train_config.log_step = 20\n",
    "train_config.learning_rate = 5e-5  # 5e-4, 1e-3\n",
    "train_config.lr = train_config.learning_rate\n",
    "train_config.max_lr = 0.0001\n",
    "train_config.early_stopping.patience = train_config.n_epochs // 3\n",
    "\n",
    "train_config.predict_dx = True\n",
    "train_config.predict_bbox = False\n",
    "train_config.predict_mask = False\n",
    "train_config.roi_only = False\n",
    "train_config.roi_padding = 0.0\n",
    "\n",
    "train_config.backbone_freeze = False\n",
    "\n",
    "# augmentations configurations\n",
    "# TODO: add augmentation configs\n",
    "\n",
    "model_config = deepcopy(ModelCfg)\n",
    "model_config.backbone_name = \"facebook/convnextv2-nano-22k-384\"\n",
    "model_config.backbone_freeze = train_config.backbone_freeze\n",
    "\n",
    "model_config.backbone_input_size = {\"shortest_edge\": 768}"
   ]
  },
  {
   "cell_type": "code",
   "execution_count": null,
   "id": "6a52942f",
   "metadata": {},
   "outputs": [],
   "source": [
    "model = MultiHead_CINC2024(config=model_config)\n",
    "# if torch.cuda.device_count() > 1:\n",
    "#     model = DP(model)\n",
    "    # model = DDP(model)\n",
    "model = model.to(device=DEVICE)"
   ]
  },
  {
   "cell_type": "code",
   "execution_count": null,
   "id": "84fd3ec3-591d-4697-a665-4f3bbde0eff4",
   "metadata": {},
   "outputs": [],
   "source": []
  },
  {
   "cell_type": "code",
   "execution_count": null,
   "id": "4f29c565",
   "metadata": {},
   "outputs": [],
   "source": [
    "if isinstance(model, DP):\n",
    "    print(model.module.module_size, model.module.module_size_)\n",
    "else:\n",
    "    print(model.module_size, model.module_size_)"
   ]
  },
  {
   "cell_type": "code",
   "execution_count": null,
   "id": "a2783d54-1f71-492a-ab46-c3f82525479c",
   "metadata": {},
   "outputs": [],
   "source": []
  },
  {
   "cell_type": "code",
   "execution_count": null,
   "id": "73ccf37a",
   "metadata": {},
   "outputs": [],
   "source": [
    "ds_train = CinC2024Dataset(train_config, training=True, lazy=True)\n",
    "ds_test = CinC2024Dataset(train_config, training=False, lazy=True)"
   ]
  },
  {
   "cell_type": "code",
   "execution_count": null,
   "id": "20e26b77-7665-4f13-8eb5-59465d106977",
   "metadata": {},
   "outputs": [],
   "source": [
    "len(ds_train), len(ds_test)"
   ]
  },
  {
   "cell_type": "code",
   "execution_count": null,
   "id": "e769b1df-0d95-4588-817f-c8e163b6dfa1",
   "metadata": {},
   "outputs": [],
   "source": [
    "view_image_with_bbox(ds_train[0][\"image\"])"
   ]
  },
  {
   "cell_type": "code",
   "execution_count": null,
   "id": "1ccfe43c-7535-4f49-a642-125edabe2ef6",
   "metadata": {},
   "outputs": [],
   "source": []
  },
  {
   "cell_type": "code",
   "execution_count": null,
   "id": "fd291217",
   "metadata": {},
   "outputs": [],
   "source": [
    "trainer = CINC2024Trainer(\n",
    "    model=model,\n",
    "    model_config=model_config,\n",
    "    train_config=train_config,\n",
    "    device=DEVICE,\n",
    "    lazy=True,\n",
    ")"
   ]
  },
  {
   "cell_type": "code",
   "execution_count": null,
   "id": "4e1dcdfa",
   "metadata": {},
   "outputs": [],
   "source": [
    "trainer._setup_dataloaders(ds_train, ds_test)\n",
    "# trainer._setup_dataloaders(ds_test, ds_train)"
   ]
  },
  {
   "cell_type": "code",
   "execution_count": null,
   "id": "dbe974d7-7c9c-43e9-8fcc-613fb8e24097",
   "metadata": {},
   "outputs": [],
   "source": []
  },
  {
   "cell_type": "code",
   "execution_count": null,
   "id": "5f09d49f-637a-4382-83db-bc0dca95fede",
   "metadata": {},
   "outputs": [],
   "source": [
    "best_model_state_dict = trainer.train()"
   ]
  },
  {
   "cell_type": "code",
   "execution_count": null,
   "id": "c82293a0-5aec-4e8f-90ca-19284e642873",
   "metadata": {},
   "outputs": [],
   "source": []
  },
  {
   "cell_type": "code",
   "execution_count": null,
   "id": "b500315a-6657-4a1e-b09b-e4fe85210f16",
   "metadata": {},
   "outputs": [],
   "source": [
    "trainer.log_manager.flush()\n",
    "trainer.log_manager.close()"
   ]
  },
  {
   "cell_type": "code",
   "execution_count": null,
   "id": "fc46a340-d214-41d9-b4e5-b97fd4c29420",
   "metadata": {},
   "outputs": [],
   "source": []
  },
  {
   "cell_type": "code",
   "execution_count": null,
   "id": "f861c33f-1db0-494c-9623-5b57d0e634d6",
   "metadata": {},
   "outputs": [],
   "source": [
    "del trainer, model, best_model_state_dict\n",
    "torch.cuda.empty_cache()"
   ]
  },
  {
   "cell_type": "code",
   "execution_count": null,
   "id": "3c66609f-c1a9-48fa-a834-10e4d66be821",
   "metadata": {},
   "outputs": [],
   "source": []
  }
 ],
 "metadata": {
  "kernelspec": {
   "display_name": "Python 3 (ipykernel)",
   "language": "python",
   "name": "python3"
  },
  "language_info": {
   "codemirror_mode": {
    "name": "ipython",
    "version": 3
   },
   "file_extension": ".py",
   "mimetype": "text/x-python",
   "name": "python",
   "nbconvert_exporter": "python",
   "pygments_lexer": "ipython3",
   "version": "3.10.12"
  }
 },
 "nbformat": 4,
 "nbformat_minor": 5
}
