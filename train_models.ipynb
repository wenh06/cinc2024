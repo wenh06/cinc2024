{
 "cells": [
  {
   "cell_type": "code",
   "execution_count": null,
   "id": "2674ced4",
   "metadata": {},
   "outputs": [],
   "source": [
    "sys.path.insert(0, \"/home/wenh06/Jupyter/wenhao/workspace/torch_ecg/\")\n",
    "sys.path.insert(0, \"/home/wenh06/Jupyter/wenhao/workspace/bib_lookup/\")\n",
    "\n",
    "import os\n",
    "import pickle\n",
    "import time\n",
    "from copy import deepcopy\n",
    "from pathlib import Path\n",
    "from typing import Dict, Union, Tuple, Sequence\n",
    "\n",
    "import numpy as np\n",
    "from torch.nn.parallel import (  # noqa: F401\n",
    "    DistributedDataParallel as DDP,\n",
    "    DataParallel as DP,\n",
    ")  # noqa: F401\n",
    "from torch_ecg.cfg import CFG\n",
    "from torch_ecg.utils.misc import str2bool\n",
    "from tqdm.auto import tqdm\n",
    "\n",
    "from cfg import TrainCfg, ModelCfg\n",
    "from dataset import CinC2024Dataset\n",
    "from models import MultiHead_CINC2024\n",
    "from trainer import CINC2024Trainer\n",
    "\n",
    "%load_ext autoreload\n",
    "%autoreload 2"
   ]
  },
  {
   "cell_type": "code",
   "execution_count": null,
   "id": "5d71ef57",
   "metadata": {},
   "outputs": [],
   "source": []
  },
  {
   "cell_type": "markdown",
   "id": "58800f94",
   "metadata": {},
   "source": [
    "## DL model"
   ]
  },
  {
   "cell_type": "code",
   "execution_count": null,
   "id": "c71826ea",
   "metadata": {},
   "outputs": [],
   "source": [
    "TEST_FLAG = False\n",
    "\n",
    "DEVICE = torch.device(\"cuda\" if torch.cuda.is_available() else \"cpu\")\n",
    "if ModelCfg.torch_dtype == torch.float64:\n",
    "    torch.set_default_tensor_type(torch.DoubleTensor)\n",
    "    DTYPE = np.float64\n",
    "else:\n",
    "    DTYPE = np.float32\n",
    "\n",
    "CinC2024Dataset.__DEBUG__ = False\n",
    "MultiHead_CINC2024.__DEBUG__ = False\n",
    "CINC2024Trainer.__DEBUG__ = False"
   ]
  },
  {
   "cell_type": "code",
   "execution_count": null,
   "id": "2d1885f6",
   "metadata": {},
   "outputs": [],
   "source": []
  },
  {
   "cell_type": "code",
   "execution_count": null,
   "id": "956b2347",
   "metadata": {},
   "outputs": [],
   "source": [
    "train_config = deepcopy(TrainCfg)\n",
    "# train_config.db_dir = data_folder\n",
    "# train_config.model_dir = model_folder\n",
    "# train_config.final_model_filename = _ModelFilename\n",
    "train_config.debug = True\n",
    "\n",
    "# train_config.db_dir = \"/home/wenh06/Jupyter/Hot-data/cinc2024/ptb-xl/\"\n",
    "train_config.db_dir = \"/home/wenh06/Jupyter/Hot-data/cinc2024/ptb-xl-subset/\"\n",
    "\n",
    "train_config.n_epochs = 65\n",
    "train_config.batch_size = 48  # 16G (Tesla T4)\n",
    "# train_config.log_step = 20\n",
    "# # train_config.max_lr = 1.5e-3\n",
    "train_config.early_stopping.patience = int(train_config.n_epochs * 0.55)\n",
    "\n",
    "# augmentations configurations\n",
    "# TODO: add augmentation configs\n",
    "\n",
    "model_config = deepcopy(ModelCfg)"
   ]
  },
  {
   "cell_type": "code",
   "execution_count": null,
   "id": "7be50449",
   "metadata": {},
   "outputs": [],
   "source": []
  },
  {
   "cell_type": "code",
   "execution_count": null,
   "id": "6a52942f",
   "metadata": {},
   "outputs": [],
   "source": [
    "model = MultiHead_CINC2024(config=model_config)\n",
    "if torch.cuda.device_count() > 1:\n",
    "    model = DP(model)\n",
    "    # model = DDP(model)\n",
    "model = model.to(device=DEVICE)"
   ]
  },
  {
   "cell_type": "code",
   "execution_count": null,
   "id": "4f29c565",
   "metadata": {},
   "outputs": [],
   "source": [
    "if isinstance(model, DP):\n",
    "    print(model.module.module_size, model.module.module_size_)\n",
    "else:\n",
    "    print(model.module_size, model.module_size_)"
   ]
  },
  {
   "cell_type": "code",
   "execution_count": null,
   "id": "95b48cca",
   "metadata": {
    "scrolled": true
   },
   "outputs": [],
   "source": [
    "model"
   ]
  },
  {
   "cell_type": "code",
   "execution_count": null,
   "id": "821110c4",
   "metadata": {},
   "outputs": [],
   "source": []
  },
  {
   "cell_type": "code",
   "execution_count": null,
   "id": "73ccf37a",
   "metadata": {},
   "outputs": [],
   "source": [
    "ds_train = CinC2024Dataset(train_config, training=True, lazy=True)\n",
    "ds_test = CinC2024Dataset(train_config, training=False, lazy=True)"
   ]
  },
  {
   "cell_type": "code",
   "execution_count": null,
   "id": "20e26b77-7665-4f13-8eb5-59465d106977",
   "metadata": {},
   "outputs": [],
   "source": [
    "len(ds_train), len(ds_test)"
   ]
  },
  {
   "cell_type": "code",
   "execution_count": null,
   "id": "1ccfe43c-7535-4f49-a642-125edabe2ef6",
   "metadata": {},
   "outputs": [],
   "source": []
  },
  {
   "cell_type": "code",
   "execution_count": null,
   "id": "fd291217",
   "metadata": {},
   "outputs": [],
   "source": [
    "trainer = CINC2024Trainer(\n",
    "    model=model,\n",
    "    model_config=model_config,\n",
    "    train_config=train_config,\n",
    "    device=DEVICE,\n",
    "    lazy=True,\n",
    ")"
   ]
  },
  {
   "cell_type": "code",
   "execution_count": null,
   "id": "4e1dcdfa",
   "metadata": {},
   "outputs": [],
   "source": [
    "trainer._setup_dataloaders(ds_train, ds_test)\n",
    "# trainer._setup_dataloaders(ds_test, ds_train)"
   ]
  },
  {
   "cell_type": "code",
   "execution_count": null,
   "id": "dbe974d7-7c9c-43e9-8fcc-613fb8e24097",
   "metadata": {},
   "outputs": [],
   "source": []
  },
  {
   "cell_type": "code",
   "execution_count": null,
   "id": "5f09d49f-637a-4382-83db-bc0dca95fede",
   "metadata": {},
   "outputs": [],
   "source": [
    "best_model_state_dict = trainer.train()"
   ]
  },
  {
   "cell_type": "code",
   "execution_count": null,
   "id": "b500315a-6657-4a1e-b09b-e4fe85210f16",
   "metadata": {},
   "outputs": [],
   "source": []
  },
  {
   "cell_type": "code",
   "execution_count": null,
   "id": "f861c33f-1db0-494c-9623-5b57d0e634d6",
   "metadata": {},
   "outputs": [],
   "source": []
  },
  {
   "cell_type": "code",
   "execution_count": null,
   "id": "6b176c09-66f9-4562-842e-7490868e4e57",
   "metadata": {},
   "outputs": [],
   "source": [
    "list(Path(\"./saved_models/\").iterdir())"
   ]
  },
  {
   "cell_type": "code",
   "execution_count": null,
   "id": "4f258436-5cf2-4250-817a-8e84ba9fc3d2",
   "metadata": {},
   "outputs": [],
   "source": []
  },
  {
   "cell_type": "code",
   "execution_count": null,
   "id": "efa57aa1-42a1-40d8-aa4d-838abb8ba272",
   "metadata": {},
   "outputs": [],
   "source": []
  }
 ],
 "metadata": {
  "kernelspec": {
   "display_name": "Python 3 (ipykernel)",
   "language": "python",
   "name": "python3"
  },
  "language_info": {
   "codemirror_mode": {
    "name": "ipython",
    "version": 3
   },
   "file_extension": ".py",
   "mimetype": "text/x-python",
   "name": "python",
   "nbconvert_exporter": "python",
   "pygments_lexer": "ipython3",
   "version": "3.10.12"
  }
 },
 "nbformat": 4,
 "nbformat_minor": 5
}
