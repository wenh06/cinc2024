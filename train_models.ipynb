{
 "cells": [
  {
   "cell_type": "code",
   "execution_count": null,
   "id": "2674ced4",
   "metadata": {},
   "outputs": [],
   "source": [
    "import sys\n",
    "# sys.path.insert(0, \"/home/wenh06/Jupyter/wenhao/workspace/torch_ecg/\")\n",
    "# sys.path.insert(0, \"/home/wenh06/Jupyter/wenhao/workspace/bib_lookup/\")\n",
    "\n",
    "import os\n",
    "import pickle\n",
    "import time\n",
    "from copy import deepcopy\n",
    "from pathlib import Path\n",
    "from typing import Dict, Union, Tuple, Sequence\n",
    "\n",
    "import numpy as np\n",
    "import torch\n",
    "from torch.nn.parallel import (  # noqa: F401\n",
    "    DistributedDataParallel as DDP,\n",
    "    DataParallel as DP,\n",
    ")  # noqa: F401\n",
    "from torch_ecg.cfg import CFG\n",
    "from torch_ecg.utils.misc import str2bool\n",
    "from tqdm.auto import tqdm\n",
    "\n",
    "from cfg import TrainCfg, ModelCfg\n",
    "from dataset import CinC2024Dataset\n",
    "from models import MultiHead_CINC2024, ECGWaveformDetector\n",
    "from trainer import CINC2024Trainer\n",
    "\n",
    "%load_ext autoreload\n",
    "%autoreload 2"
   ]
  },
  {
   "cell_type": "code",
   "execution_count": null,
   "id": "a490f145-e66d-47ed-b2e1-703abbb8e5bd",
   "metadata": {},
   "outputs": [],
   "source": []
  },
  {
   "cell_type": "code",
   "execution_count": null,
   "id": "e55a1ab5-a1d9-4e44-8d7d-9fc029998132",
   "metadata": {},
   "outputs": [],
   "source": []
  },
  {
   "cell_type": "markdown",
   "id": "2053f582-329f-4b92-b683-23683d11ccc8",
   "metadata": {},
   "source": [
    "## Object detection model"
   ]
  },
  {
   "cell_type": "code",
   "execution_count": null,
   "id": "09c07ec6-9e0b-4c31-a9b0-0c035891b552",
   "metadata": {},
   "outputs": [],
   "source": [
    "TEST_FLAG = False\n",
    "\n",
    "DEVICE = torch.device(\"cuda:1\" if torch.cuda.is_available() else \"cpu\")\n",
    "if ModelCfg.torch_dtype == torch.float64:\n",
    "    torch.set_default_tensor_type(torch.DoubleTensor)\n",
    "    DTYPE = np.float64\n",
    "else:\n",
    "    DTYPE = np.float32\n",
    "\n",
    "CinC2024Dataset.__DEBUG__ = False\n",
    "ECGWaveformDetector.__DEBUG__ = False\n",
    "CINC2024Trainer.__DEBUG__ = False"
   ]
  },
  {
   "cell_type": "code",
   "execution_count": null,
   "id": "f571dd54-420b-4dae-b2ae-647907ead85a",
   "metadata": {},
   "outputs": [],
   "source": [
    "train_config = deepcopy(TrainCfg)\n",
    "# train_config.db_dir = data_folder\n",
    "# train_config.model_dir = model_folder\n",
    "# train_config.final_model_filename = _ModelFilename\n",
    "train_config.debug = True\n",
    "train_config.predict_dx = False\n",
    "\n",
    "train_config.db_dir = \"/home/wenh06/Jupyter/wenhao/Hot-Data/cinc2024/ptb-xl/\"\n",
    "# train_config.db_dir = \"/home/wenh06/Jupyter/Hot-data/cinc2024/ptb-xl-subset/\"\n",
    "\n",
    "train_config.n_epochs = 5\n",
    "train_config.batch_size = 16  # 16G (Tesla T4)\n",
    "# train_config.log_step = 20\n",
    "# # train_config.max_lr = 1.5e-3\n",
    "train_config.early_stopping.patience = train_config.n_epochs // 3\n",
    "\n",
    "# augmentations configurations\n",
    "# TODO: add augmentation configs\n",
    "\n",
    "model_config = deepcopy(ModelCfg)"
   ]
  },
  {
   "cell_type": "code",
   "execution_count": null,
   "id": "ffbbf7db-6404-481b-9971-205f72f8e1f3",
   "metadata": {},
   "outputs": [],
   "source": [
    "model = ECGWaveformDetector(config=model_config)\n",
    "# if torch.cuda.device_count() > 1:\n",
    "#     model = DP(model)\n",
    "#     # model = DDP(model)\n",
    "model = model.to(device=DEVICE)"
   ]
  },
  {
   "cell_type": "code",
   "execution_count": null,
   "id": "d52e8188-9b5a-4f6a-8b4b-2209d2eb96ea",
   "metadata": {},
   "outputs": [],
   "source": [
    "if isinstance(model, DP):\n",
    "    print(model.module.module_size, model.module.module_size_)\n",
    "else:\n",
    "    print(model.module_size, model.module_size_)"
   ]
  },
  {
   "cell_type": "code",
   "execution_count": null,
   "id": "37d0c87a-7afb-4fe2-90b4-fcc5f9dc8c62",
   "metadata": {},
   "outputs": [],
   "source": [
    "ds_train = CinC2024Dataset(train_config, training=True, lazy=True)\n",
    "ds_test = CinC2024Dataset(train_config, training=False, lazy=True)"
   ]
  },
  {
   "cell_type": "code",
   "execution_count": null,
   "id": "77e51735-aea8-4dc3-acfa-4b42a9e2452c",
   "metadata": {},
   "outputs": [],
   "source": [
    "len(ds_train), len(ds_test)"
   ]
  },
  {
   "cell_type": "code",
   "execution_count": null,
   "id": "4106e309-b0f0-4c28-956d-f3b0672d2e36",
   "metadata": {},
   "outputs": [],
   "source": [
    "trainer = CINC2024Trainer(\n",
    "    model=model,\n",
    "    model_config=model_config,\n",
    "    train_config=train_config,\n",
    "    device=DEVICE,\n",
    "    lazy=True,\n",
    ")"
   ]
  },
  {
   "cell_type": "code",
   "execution_count": null,
   "id": "5f7a77a6-1622-41b2-a118-3887796d1814",
   "metadata": {},
   "outputs": [],
   "source": [
    "trainer._setup_dataloaders(ds_train, ds_test)\n",
    "# trainer._setup_dataloaders(ds_test, ds_train)"
   ]
  },
  {
   "cell_type": "code",
   "execution_count": null,
   "id": "a3489b98-186b-4f72-922a-089c54d56d62",
   "metadata": {},
   "outputs": [],
   "source": [
    "best_model_state_dict = trainer.train()"
   ]
  },
  {
   "cell_type": "code",
   "execution_count": null,
   "id": "2acd55f5-8ae7-4175-b161-38ad3192a4dc",
   "metadata": {},
   "outputs": [],
   "source": []
  },
  {
   "cell_type": "code",
   "execution_count": null,
   "id": "f326db74-93a8-4cd5-95d2-efdb8b76cafd",
   "metadata": {},
   "outputs": [],
   "source": [
    "trained_model = ECGWaveformDetector.from_checkpoint(\"./checkpoints/hf-facebook-convnextv2-atto-1k-224-dx__epoch0_08-04_20-04_epochloss_1962.66722_metric_0.71.pth.tar\")[0]"
   ]
  },
  {
   "cell_type": "code",
   "execution_count": null,
   "id": "a625c792-4a9b-4e62-8ef4-e39cc9737b22",
   "metadata": {},
   "outputs": [],
   "source": [
    "output = trained_model.inference(ds_train[20][\"image\"], show=True)"
   ]
  },
  {
   "cell_type": "code",
   "execution_count": null,
   "id": "cf97a48b-7aff-43d0-9457-e0b7e0a833c2",
   "metadata": {},
   "outputs": [],
   "source": [
    "import matplotlib.pyplot as plt\n",
    "fig, ax = plt.subplots(figsize=(8,12))\n",
    "plt.show()"
   ]
  },
  {
   "cell_type": "code",
   "execution_count": null,
   "id": "43b8f228-9d84-42d2-b8f6-994c84b5a309",
   "metadata": {},
   "outputs": [],
   "source": []
  },
  {
   "cell_type": "code",
   "execution_count": null,
   "id": "5d71ef57",
   "metadata": {},
   "outputs": [],
   "source": []
  },
  {
   "cell_type": "markdown",
   "id": "58800f94",
   "metadata": {},
   "source": [
    "## Dx model"
   ]
  },
  {
   "cell_type": "code",
   "execution_count": null,
   "id": "c71826ea",
   "metadata": {},
   "outputs": [],
   "source": [
    "TEST_FLAG = False\n",
    "\n",
    "DEVICE = torch.device(\"cuda\" if torch.cuda.is_available() else \"cpu\")\n",
    "if ModelCfg.torch_dtype == torch.float64:\n",
    "    torch.set_default_tensor_type(torch.DoubleTensor)\n",
    "    DTYPE = np.float64\n",
    "else:\n",
    "    DTYPE = np.float32\n",
    "\n",
    "CinC2024Dataset.__DEBUG__ = False\n",
    "MultiHead_CINC2024.__DEBUG__ = False\n",
    "CINC2024Trainer.__DEBUG__ = False"
   ]
  },
  {
   "cell_type": "code",
   "execution_count": null,
   "id": "2d1885f6",
   "metadata": {},
   "outputs": [],
   "source": []
  },
  {
   "cell_type": "code",
   "execution_count": null,
   "id": "956b2347",
   "metadata": {},
   "outputs": [],
   "source": [
    "train_config = deepcopy(TrainCfg)\n",
    "# train_config.db_dir = data_folder\n",
    "# train_config.model_dir = model_folder\n",
    "# train_config.final_model_filename = _ModelFilename\n",
    "train_config.debug = True\n",
    "\n",
    "train_config.db_dir = \"/home/wenh06/Jupyter/Hot-data/cinc2024/ptb-xl/\"\n",
    "# train_config.db_dir = \"/home/wenh06/Jupyter/Hot-data/cinc2024/ptb-xl-subset/\"\n",
    "\n",
    "train_config.n_epochs = 25\n",
    "train_config.batch_size = 32  # 16G (Tesla T4)\n",
    "# train_config.log_step = 20\n",
    "# # train_config.max_lr = 1.5e-3\n",
    "train_config.early_stopping.patience = train_config.n_epochs // 3\n",
    "\n",
    "# augmentations configurations\n",
    "# TODO: add augmentation configs\n",
    "\n",
    "model_config = deepcopy(ModelCfg)\n",
    "model_config.backbone_name = \"facebook/convnextv2-nano-22k-384\""
   ]
  },
  {
   "cell_type": "code",
   "execution_count": null,
   "id": "7be50449",
   "metadata": {},
   "outputs": [],
   "source": []
  },
  {
   "cell_type": "code",
   "execution_count": null,
   "id": "6a52942f",
   "metadata": {},
   "outputs": [],
   "source": [
    "model = MultiHead_CINC2024(config=model_config)\n",
    "if torch.cuda.device_count() > 1:\n",
    "    model = DP(model)\n",
    "    # model = DDP(model)\n",
    "model = model.to(device=DEVICE)"
   ]
  },
  {
   "cell_type": "code",
   "execution_count": null,
   "id": "84fd3ec3-591d-4697-a665-4f3bbde0eff4",
   "metadata": {},
   "outputs": [],
   "source": []
  },
  {
   "cell_type": "code",
   "execution_count": null,
   "id": "4f29c565",
   "metadata": {},
   "outputs": [],
   "source": [
    "if isinstance(model, DP):\n",
    "    print(model.module.module_size, model.module.module_size_)\n",
    "else:\n",
    "    print(model.module_size, model.module_size_)"
   ]
  },
  {
   "cell_type": "code",
   "execution_count": null,
   "id": "a2783d54-1f71-492a-ab46-c3f82525479c",
   "metadata": {},
   "outputs": [],
   "source": []
  },
  {
   "cell_type": "code",
   "execution_count": null,
   "id": "73ccf37a",
   "metadata": {},
   "outputs": [],
   "source": [
    "ds_train = CinC2024Dataset(train_config, training=True, lazy=True)\n",
    "ds_test = CinC2024Dataset(train_config, training=False, lazy=True)"
   ]
  },
  {
   "cell_type": "code",
   "execution_count": null,
   "id": "20e26b77-7665-4f13-8eb5-59465d106977",
   "metadata": {},
   "outputs": [],
   "source": [
    "len(ds_train), len(ds_test)"
   ]
  },
  {
   "cell_type": "code",
   "execution_count": null,
   "id": "1ccfe43c-7535-4f49-a642-125edabe2ef6",
   "metadata": {},
   "outputs": [],
   "source": []
  },
  {
   "cell_type": "code",
   "execution_count": null,
   "id": "fd291217",
   "metadata": {},
   "outputs": [],
   "source": [
    "trainer = CINC2024Trainer(\n",
    "    model=model,\n",
    "    model_config=model_config,\n",
    "    train_config=train_config,\n",
    "    device=DEVICE,\n",
    "    lazy=True,\n",
    ")"
   ]
  },
  {
   "cell_type": "code",
   "execution_count": null,
   "id": "4e1dcdfa",
   "metadata": {},
   "outputs": [],
   "source": [
    "trainer._setup_dataloaders(ds_train, ds_test)\n",
    "# trainer._setup_dataloaders(ds_test, ds_train)"
   ]
  },
  {
   "cell_type": "code",
   "execution_count": null,
   "id": "dbe974d7-7c9c-43e9-8fcc-613fb8e24097",
   "metadata": {},
   "outputs": [],
   "source": []
  },
  {
   "cell_type": "code",
   "execution_count": null,
   "id": "5f09d49f-637a-4382-83db-bc0dca95fede",
   "metadata": {},
   "outputs": [],
   "source": [
    "best_model_state_dict = trainer.train()"
   ]
  },
  {
   "cell_type": "code",
   "execution_count": null,
   "id": "c82293a0-5aec-4e8f-90ca-19284e642873",
   "metadata": {},
   "outputs": [],
   "source": []
  },
  {
   "cell_type": "code",
   "execution_count": null,
   "id": "b500315a-6657-4a1e-b09b-e4fe85210f16",
   "metadata": {},
   "outputs": [],
   "source": [
    "trainer.log_manager.flush()\n",
    "trainer.log_manager.close()"
   ]
  },
  {
   "cell_type": "code",
   "execution_count": null,
   "id": "f861c33f-1db0-494c-9623-5b57d0e634d6",
   "metadata": {},
   "outputs": [],
   "source": []
  },
  {
   "cell_type": "code",
   "execution_count": null,
   "id": "6b176c09-66f9-4562-842e-7490868e4e57",
   "metadata": {},
   "outputs": [],
   "source": [
    "list(Path(\"./saved_models/\").iterdir())"
   ]
  },
  {
   "cell_type": "code",
   "execution_count": null,
   "id": "4f258436-5cf2-4250-817a-8e84ba9fc3d2",
   "metadata": {},
   "outputs": [],
   "source": []
  },
  {
   "cell_type": "code",
   "execution_count": null,
   "id": "efa57aa1-42a1-40d8-aa4d-838abb8ba272",
   "metadata": {},
   "outputs": [],
   "source": []
  }
 ],
 "metadata": {
  "kernelspec": {
   "display_name": "Python 3 (ipykernel)",
   "language": "python",
   "name": "python3"
  },
  "language_info": {
   "codemirror_mode": {
    "name": "ipython",
    "version": 3
   },
   "file_extension": ".py",
   "mimetype": "text/x-python",
   "name": "python",
   "nbconvert_exporter": "python",
   "pygments_lexer": "ipython3",
   "version": "3.10.12"
  }
 },
 "nbformat": 4,
 "nbformat_minor": 5
}
