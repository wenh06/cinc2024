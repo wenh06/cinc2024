{
 "cells": [
  {
   "cell_type": "code",
   "execution_count": null,
   "id": "0",
   "metadata": {},
   "outputs": [],
   "source": [
    "import os\n",
    "import pickle\n",
    "import sys\n",
    "import time\n",
    "from copy import deepcopy\n",
    "from pathlib import Path\n",
    "from typing import Dict, Sequence, Tuple, Union\n",
    "\n",
    "import numpy as np\n",
    "import torch\n",
    "from torch.nn.parallel import DataParallel as DP\n",
    "from torch.nn.parallel import DistributedDataParallel as DDP  # noqa: F401\n",
    "from torch_ecg.cfg import CFG\n",
    "from torch_ecg.utils.misc import str2bool\n",
    "from tqdm.auto import tqdm\n",
    "\n",
    "from cfg import ModelCfg, TrainCfg\n",
    "from dataset import CinC2024Dataset\n",
    "from models import ECGWaveformDetector, ECGWaveformDigitizer, MultiHead_CINC2024\n",
    "from trainer import CINC2024Trainer\n",
    "from utils.misc import view_image_with_bbox\n",
    "\n",
    "# sys.path.insert(0, \"/home/wenh06/Jupyter/wenhao/workspace/torch_ecg/\")\n",
    "# sys.path.insert(0, \"/home/wenh06/Jupyter/wenhao/workspace/bib_lookup/\")\n",
    "\n",
    "\n",
    "\n",
    "\n",
    "%load_ext autoreload\n",
    "%autoreload 2"
   ]
  },
  {
   "cell_type": "code",
   "execution_count": null,
   "id": "1",
   "metadata": {},
   "outputs": [],
   "source": [
    "db_dir = Path(\"/home/wenh06/Jupyter/wenhao/Hot-Data/cinc2024/ptb-xl/\")\n",
    "DEVICE = torch.device(\"cuda:1\" if torch.cuda.is_available() else \"cpu\")"
   ]
  },
  {
   "cell_type": "code",
   "execution_count": null,
   "id": "2",
   "metadata": {},
   "outputs": [],
   "source": []
  },
  {
   "cell_type": "markdown",
   "id": "3",
   "metadata": {},
   "source": [
    "## Object detection model"
   ]
  },
  {
   "cell_type": "code",
   "execution_count": null,
   "id": "4",
   "metadata": {},
   "outputs": [],
   "source": [
    "TEST_FLAG = False\n",
    "\n",
    "if ModelCfg.torch_dtype == torch.float64:\n",
    "    torch.set_default_tensor_type(torch.DoubleTensor)\n",
    "    DTYPE = np.float64\n",
    "else:\n",
    "    DTYPE = np.float32\n",
    "\n",
    "CinC2024Dataset.__DEBUG__ = False\n",
    "ECGWaveformDetector.__DEBUG__ = False\n",
    "CINC2024Trainer.__DEBUG__ = False"
   ]
  },
  {
   "cell_type": "code",
   "execution_count": null,
   "id": "5",
   "metadata": {},
   "outputs": [],
   "source": [
    "train_config = deepcopy(TrainCfg)\n",
    "# train_config.db_dir = data_folder\n",
    "# train_config.model_dir = model_folder\n",
    "# train_config.final_model_filename = _ModelFilename\n",
    "train_config.debug = True\n",
    "train_config.predict_dx = False\n",
    "\n",
    "train_config.bbox_mode = \"merge_horizontal\"\n",
    "\n",
    "train_config.db_dir = db_dir\n",
    "\n",
    "train_config.n_epochs = 12\n",
    "train_config.batch_size = 10  # 16G (Tesla T4)\n",
    "# train_config.log_step = 20\n",
    "train_config.learning_rate = 2e-5  # 5e-4, 1e-3\n",
    "train_config.lr = train_config.learning_rate\n",
    "train_config.max_lr = 7e-5\n",
    "train_config.early_stopping.patience = train_config.n_epochs // 3\n",
    "\n",
    "# augmentations configurations\n",
    "# TODO: add augmentation configs\n",
    "\n",
    "model_config = deepcopy(ModelCfg)\n",
    "\n",
    "model_config.object_detection.bbox_mode = train_config.bbox_mode"
   ]
  },
  {
   "cell_type": "code",
   "execution_count": null,
   "id": "6",
   "metadata": {},
   "outputs": [],
   "source": [
    "model = ECGWaveformDetector(config=model_config)\n",
    "# if torch.cuda.device_count() > 1:\n",
    "#     model = DP(model)\n",
    "#     # model = DDP(model)\n",
    "model = model.to(device=DEVICE)"
   ]
  },
  {
   "cell_type": "code",
   "execution_count": null,
   "id": "7",
   "metadata": {},
   "outputs": [],
   "source": [
    "if isinstance(model, DP):\n",
    "    print(model.module.module_size, model.module.module_size_)\n",
    "else:\n",
    "    print(model.module_size, model.module_size_)"
   ]
  },
  {
   "cell_type": "code",
   "execution_count": null,
   "id": "8",
   "metadata": {},
   "outputs": [],
   "source": [
    "ds_train = CinC2024Dataset(train_config, training=True, lazy=True)\n",
    "ds_test = CinC2024Dataset(train_config, training=False, lazy=True)"
   ]
  },
  {
   "cell_type": "code",
   "execution_count": null,
   "id": "9",
   "metadata": {},
   "outputs": [],
   "source": [
    "len(ds_train), len(ds_test)"
   ]
  },
  {
   "cell_type": "code",
   "execution_count": null,
   "id": "10",
   "metadata": {},
   "outputs": [],
   "source": [
    "data = ds_train[0]\n",
    "view_image_with_bbox(\n",
    "    data[\"image\"],\n",
    "    data[\"bbox\"][\"annotations\"],\n",
    "    fmt=ds_train.config.bbox_format,\n",
    "    cat_names=model_config.object_detection.class_names,\n",
    ")"
   ]
  },
  {
   "cell_type": "code",
   "execution_count": null,
   "id": "11",
   "metadata": {},
   "outputs": [],
   "source": []
  },
  {
   "cell_type": "code",
   "execution_count": null,
   "id": "12",
   "metadata": {},
   "outputs": [],
   "source": [
    "trainer = CINC2024Trainer(\n",
    "    model=model,\n",
    "    model_config=model_config,\n",
    "    train_config=train_config,\n",
    "    device=DEVICE,\n",
    "    lazy=True,\n",
    ")"
   ]
  },
  {
   "cell_type": "code",
   "execution_count": null,
   "id": "13",
   "metadata": {},
   "outputs": [],
   "source": [
    "trainer._setup_dataloaders(ds_train, ds_test)\n",
    "# trainer._setup_dataloaders(ds_test, ds_train)"
   ]
  },
  {
   "cell_type": "code",
   "execution_count": null,
   "id": "14",
   "metadata": {},
   "outputs": [],
   "source": [
    "best_model_state_dict = trainer.train()"
   ]
  },
  {
   "cell_type": "code",
   "execution_count": null,
   "id": "15",
   "metadata": {},
   "outputs": [],
   "source": []
  },
  {
   "cell_type": "code",
   "execution_count": null,
   "id": "16",
   "metadata": {},
   "outputs": [],
   "source": [
    "trainer.log_manager.flush()\n",
    "trainer.log_manager.close()"
   ]
  },
  {
   "cell_type": "code",
   "execution_count": null,
   "id": "17",
   "metadata": {},
   "outputs": [],
   "source": [
    "del trainer, model, best_model_state_dict\n",
    "torch.cuda.empty_cache()"
   ]
  },
  {
   "cell_type": "code",
   "execution_count": null,
   "id": "18",
   "metadata": {},
   "outputs": [],
   "source": []
  },
  {
   "cell_type": "markdown",
   "id": "19",
   "metadata": {},
   "source": [
    "## Segmentation (Digitization) model"
   ]
  },
  {
   "cell_type": "code",
   "execution_count": null,
   "id": "20",
   "metadata": {},
   "outputs": [],
   "source": [
    "TEST_FLAG = False\n",
    "\n",
    "if ModelCfg.torch_dtype == torch.float64:\n",
    "    torch.set_default_tensor_type(torch.DoubleTensor)\n",
    "    DTYPE = np.float64\n",
    "else:\n",
    "    DTYPE = np.float32\n",
    "\n",
    "CinC2024Dataset.__DEBUG__ = False\n",
    "ECGWaveformDetector.__DEBUG__ = False\n",
    "CINC2024Trainer.__DEBUG__ = False"
   ]
  },
  {
   "cell_type": "code",
   "execution_count": null,
   "id": "21",
   "metadata": {},
   "outputs": [],
   "source": [
    "train_config = deepcopy(TrainCfg)\n",
    "# train_config.db_dir = data_folder\n",
    "# train_config.model_dir = model_folder\n",
    "# train_config.final_model_filename = _ModelFilename\n",
    "train_config.debug = True\n",
    "train_config.predict_dx = False\n",
    "train_config.predict_bbox = False\n",
    "train_config.predict_mask = True\n",
    "train_config.roi_only = True\n",
    "train_config.roi_padding = 0.0\n",
    "\n",
    "train_config.db_dir = db_dir\n",
    "\n",
    "train_config.n_epochs = 10\n",
    "train_config.batch_size = 6  # 16G (Tesla T4)\n",
    "train_config.log_step = 120\n",
    "train_config.learning_rate = 4e-5  # 5e-4, 1e-3\n",
    "train_config.lr = train_config.learning_rate\n",
    "train_config.max_lr = 9e-5\n",
    "train_config.early_stopping.patience = train_config.n_epochs // 2\n",
    "\n",
    "# augmentations configurations\n",
    "# TODO: add augmentation configs\n",
    "\n",
    "model_config = deepcopy(ModelCfg)"
   ]
  },
  {
   "cell_type": "code",
   "execution_count": null,
   "id": "22",
   "metadata": {},
   "outputs": [],
   "source": [
    "model = ECGWaveformDigitizer(config=model_config)\n",
    "# if torch.cuda.device_count() > 1:\n",
    "#     model = DP(model)\n",
    "#     # model = DDP(model)\n",
    "model = model.to(device=DEVICE)"
   ]
  },
  {
   "cell_type": "code",
   "execution_count": null,
   "id": "23",
   "metadata": {},
   "outputs": [],
   "source": [
    "if isinstance(model, DP):\n",
    "    print(model.module.module_size, model.module.module_size_)\n",
    "else:\n",
    "    print(model.module_size, model.module_size_)"
   ]
  },
  {
   "cell_type": "code",
   "execution_count": null,
   "id": "24",
   "metadata": {},
   "outputs": [],
   "source": [
    "ds_train = CinC2024Dataset(train_config, training=True, lazy=True)\n",
    "ds_test = CinC2024Dataset(train_config, training=False, lazy=True)"
   ]
  },
  {
   "cell_type": "code",
   "execution_count": null,
   "id": "25",
   "metadata": {},
   "outputs": [],
   "source": [
    "len(ds_train), len(ds_test)"
   ]
  },
  {
   "cell_type": "code",
   "execution_count": null,
   "id": "26",
   "metadata": {},
   "outputs": [],
   "source": [
    "data = ds_train[0]\n",
    "view_image_with_bbox(data[\"image\"], mask=data[\"mask\"])"
   ]
  },
  {
   "cell_type": "code",
   "execution_count": null,
   "id": "27",
   "metadata": {},
   "outputs": [],
   "source": []
  },
  {
   "cell_type": "code",
   "execution_count": null,
   "id": "28",
   "metadata": {},
   "outputs": [],
   "source": [
    "trainer = CINC2024Trainer(\n",
    "    model=model,\n",
    "    model_config=model_config,\n",
    "    train_config=train_config,\n",
    "    device=DEVICE,\n",
    "    lazy=True,\n",
    ")"
   ]
  },
  {
   "cell_type": "code",
   "execution_count": null,
   "id": "29",
   "metadata": {},
   "outputs": [],
   "source": [
    "trainer._setup_dataloaders(ds_train, ds_test)\n",
    "# trainer._setup_dataloaders(ds_test, ds_train)"
   ]
  },
  {
   "cell_type": "code",
   "execution_count": null,
   "id": "30",
   "metadata": {},
   "outputs": [],
   "source": []
  },
  {
   "cell_type": "code",
   "execution_count": null,
   "id": "31",
   "metadata": {},
   "outputs": [],
   "source": [
    "best_model_state_dict = trainer.train()"
   ]
  },
  {
   "cell_type": "code",
   "execution_count": null,
   "id": "32",
   "metadata": {},
   "outputs": [],
   "source": []
  },
  {
   "cell_type": "code",
   "execution_count": null,
   "id": "33",
   "metadata": {},
   "outputs": [],
   "source": [
    "trainer.log_manager.flush()\n",
    "trainer.log_manager.close()"
   ]
  },
  {
   "cell_type": "code",
   "execution_count": null,
   "id": "34",
   "metadata": {},
   "outputs": [],
   "source": []
  },
  {
   "cell_type": "code",
   "execution_count": null,
   "id": "35",
   "metadata": {},
   "outputs": [],
   "source": [
    "model.inference(ds_test[10][\"image\"], show=True)"
   ]
  },
  {
   "cell_type": "code",
   "execution_count": null,
   "id": "36",
   "metadata": {},
   "outputs": [],
   "source": []
  },
  {
   "cell_type": "code",
   "execution_count": null,
   "id": "37",
   "metadata": {},
   "outputs": [],
   "source": [
    "del trainer, model, best_model_state_dict\n",
    "torch.cuda.empty_cache()"
   ]
  },
  {
   "cell_type": "code",
   "execution_count": null,
   "id": "38",
   "metadata": {},
   "outputs": [],
   "source": []
  },
  {
   "cell_type": "markdown",
   "id": "39",
   "metadata": {},
   "source": [
    "## Dx model"
   ]
  },
  {
   "cell_type": "code",
   "execution_count": null,
   "id": "40",
   "metadata": {},
   "outputs": [],
   "source": [
    "TEST_FLAG = False\n",
    "\n",
    "if ModelCfg.torch_dtype == torch.float64:\n",
    "    torch.set_default_tensor_type(torch.DoubleTensor)\n",
    "    DTYPE = np.float64\n",
    "else:\n",
    "    DTYPE = np.float32\n",
    "\n",
    "CinC2024Dataset.__DEBUG__ = False\n",
    "MultiHead_CINC2024.__DEBUG__ = False\n",
    "CINC2024Trainer.__DEBUG__ = False"
   ]
  },
  {
   "cell_type": "code",
   "execution_count": null,
   "id": "41",
   "metadata": {},
   "outputs": [],
   "source": []
  },
  {
   "cell_type": "code",
   "execution_count": null,
   "id": "42",
   "metadata": {},
   "outputs": [],
   "source": [
    "train_config = deepcopy(TrainCfg)\n",
    "# train_config.db_dir = data_folder\n",
    "# train_config.model_dir = model_folder\n",
    "# train_config.final_model_filename = _ModelFilename\n",
    "train_config.debug = True\n",
    "\n",
    "train_config.db_dir = db_dir\n",
    "\n",
    "train_config.n_epochs = 25\n",
    "train_config.batch_size = 17  # 16G (Tesla T4)\n",
    "# train_config.log_step = 20\n",
    "train_config.learning_rate = 5e-5  # 5e-4, 1e-3\n",
    "train_config.lr = train_config.learning_rate\n",
    "train_config.max_lr = 0.0001\n",
    "train_config.early_stopping.patience = train_config.n_epochs // 3\n",
    "\n",
    "train_config.predict_dx = True\n",
    "train_config.predict_bbox = False\n",
    "train_config.predict_mask = False\n",
    "train_config.roi_only = False\n",
    "train_config.roi_padding = 0.0\n",
    "\n",
    "train_config.backbone_freeze = False\n",
    "\n",
    "# augmentations configurations\n",
    "# TODO: add augmentation configs\n",
    "\n",
    "model_config = deepcopy(ModelCfg)\n",
    "model_config.backbone_name = \"facebook/convnextv2-nano-22k-384\"\n",
    "model_config.backbone_freeze = train_config.backbone_freeze\n",
    "\n",
    "model_config.backbone_input_size = {\"shortest_edge\": 768}"
   ]
  },
  {
   "cell_type": "code",
   "execution_count": null,
   "id": "43",
   "metadata": {},
   "outputs": [],
   "source": [
    "model = MultiHead_CINC2024(config=model_config)\n",
    "# if torch.cuda.device_count() > 1:\n",
    "#     model = DP(model)\n",
    "# model = DDP(model)\n",
    "model = model.to(device=DEVICE)"
   ]
  },
  {
   "cell_type": "code",
   "execution_count": null,
   "id": "44",
   "metadata": {},
   "outputs": [],
   "source": []
  },
  {
   "cell_type": "code",
   "execution_count": null,
   "id": "45",
   "metadata": {},
   "outputs": [],
   "source": [
    "if isinstance(model, DP):\n",
    "    print(model.module.module_size, model.module.module_size_)\n",
    "else:\n",
    "    print(model.module_size, model.module_size_)"
   ]
  },
  {
   "cell_type": "code",
   "execution_count": null,
   "id": "46",
   "metadata": {},
   "outputs": [],
   "source": []
  },
  {
   "cell_type": "code",
   "execution_count": null,
   "id": "47",
   "metadata": {},
   "outputs": [],
   "source": [
    "ds_train = CinC2024Dataset(train_config, training=True, lazy=True)\n",
    "ds_test = CinC2024Dataset(train_config, training=False, lazy=True)"
   ]
  },
  {
   "cell_type": "code",
   "execution_count": null,
   "id": "48",
   "metadata": {},
   "outputs": [],
   "source": [
    "len(ds_train), len(ds_test)"
   ]
  },
  {
   "cell_type": "code",
   "execution_count": null,
   "id": "49",
   "metadata": {},
   "outputs": [],
   "source": [
    "view_image_with_bbox(ds_train[0][\"image\"])"
   ]
  },
  {
   "cell_type": "code",
   "execution_count": null,
   "id": "50",
   "metadata": {},
   "outputs": [],
   "source": []
  },
  {
   "cell_type": "code",
   "execution_count": null,
   "id": "51",
   "metadata": {},
   "outputs": [],
   "source": [
    "trainer = CINC2024Trainer(\n",
    "    model=model,\n",
    "    model_config=model_config,\n",
    "    train_config=train_config,\n",
    "    device=DEVICE,\n",
    "    lazy=True,\n",
    ")"
   ]
  },
  {
   "cell_type": "code",
   "execution_count": null,
   "id": "52",
   "metadata": {},
   "outputs": [],
   "source": [
    "trainer._setup_dataloaders(ds_train, ds_test)\n",
    "# trainer._setup_dataloaders(ds_test, ds_train)"
   ]
  },
  {
   "cell_type": "code",
   "execution_count": null,
   "id": "53",
   "metadata": {},
   "outputs": [],
   "source": []
  },
  {
   "cell_type": "code",
   "execution_count": null,
   "id": "54",
   "metadata": {},
   "outputs": [],
   "source": [
    "best_model_state_dict = trainer.train()"
   ]
  },
  {
   "cell_type": "code",
   "execution_count": null,
   "id": "55",
   "metadata": {},
   "outputs": [],
   "source": []
  },
  {
   "cell_type": "code",
   "execution_count": null,
   "id": "56",
   "metadata": {},
   "outputs": [],
   "source": [
    "trainer.log_manager.flush()\n",
    "trainer.log_manager.close()"
   ]
  },
  {
   "cell_type": "code",
   "execution_count": null,
   "id": "57",
   "metadata": {},
   "outputs": [],
   "source": []
  },
  {
   "cell_type": "code",
   "execution_count": null,
   "id": "58",
   "metadata": {},
   "outputs": [],
   "source": [
    "del trainer, model, best_model_state_dict\n",
    "torch.cuda.empty_cache()"
   ]
  },
  {
   "cell_type": "code",
   "execution_count": null,
   "id": "59",
   "metadata": {},
   "outputs": [],
   "source": []
  }
 ],
 "metadata": {
  "kernelspec": {
   "display_name": "Python 3 (ipykernel)",
   "language": "python",
   "name": "python3"
  },
  "language_info": {
   "codemirror_mode": {
    "name": "ipython",
    "version": 3
   },
   "file_extension": ".py",
   "mimetype": "text/x-python",
   "name": "python",
   "nbconvert_exporter": "python",
   "pygments_lexer": "ipython3",
   "version": "3.10.12"
  }
 },
 "nbformat": 4,
 "nbformat_minor": 5
}
